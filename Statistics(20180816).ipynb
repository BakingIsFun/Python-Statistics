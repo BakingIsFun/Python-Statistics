{
 "cells": [
  {
   "cell_type": "markdown",
   "metadata": {},
   "source": [
    "## 1.0  Basic Statistics"
   ]
  },
  {
   "cell_type": "markdown",
   "metadata": {},
   "source": [
    "Let's say we want to work data on the price of certificate of entitlement (COE) from January 2010 to March 2018.  There are a few categories of COE but we focus only Category A to simplify the following discussion.\n",
    "\n",
    "The file containing the data has been downloaded from data.gov.sg\n",
    "\n",
    "The filename is COE_Results_CatA.csv\n",
    "\n",
    "We first read the file into our program. \n",
    "\n",
    "Since there are a few columns of data and we wish to view some basic statistics for those columns, it is easier to read in the data as a panda dataframe.  A panda dataframe has a structure just like that of a spreadsheet that we are all very familiar with.\n",
    "\n",
    "Import pandas before using it.\n",
    "\n",
    "Note where your data file is located so that you can use the correct path."
   ]
  },
  {
   "cell_type": "code",
   "execution_count": 1,
   "metadata": {},
   "outputs": [],
   "source": [
    "import pandas as pd\n",
    "#COE = pd.read_csv('Data/COE_Results_CatA.csv', engine='python')\n",
    "COE = pd.read_csv('Data/COE_Results_CatA.csv')"
   ]
  },
  {
   "cell_type": "markdown",
   "metadata": {},
   "source": [
    "Check the data read in:  examine the first few rows(use the .head() method) and the last few rows (use the .tail() method)."
   ]
  },
  {
   "cell_type": "code",
   "execution_count": 2,
   "metadata": {
    "scrolled": true
   },
   "outputs": [
    {
     "data": {
      "text/html": [
       "<div>\n",
       "<style scoped>\n",
       "    .dataframe tbody tr th:only-of-type {\n",
       "        vertical-align: middle;\n",
       "    }\n",
       "\n",
       "    .dataframe tbody tr th {\n",
       "        vertical-align: top;\n",
       "    }\n",
       "\n",
       "    .dataframe thead th {\n",
       "        text-align: right;\n",
       "    }\n",
       "</style>\n",
       "<table border=\"1\" class=\"dataframe\">\n",
       "  <thead>\n",
       "    <tr style=\"text-align: right;\">\n",
       "      <th></th>\n",
       "      <th>month</th>\n",
       "      <th>bidding_no</th>\n",
       "      <th>vehicle_class</th>\n",
       "      <th>quota</th>\n",
       "      <th>bids_success</th>\n",
       "      <th>bids_received</th>\n",
       "      <th>premium</th>\n",
       "    </tr>\n",
       "  </thead>\n",
       "  <tbody>\n",
       "    <tr>\n",
       "      <th>0</th>\n",
       "      <td>2010-01</td>\n",
       "      <td>1</td>\n",
       "      <td>Category A</td>\n",
       "      <td>1152</td>\n",
       "      <td>1145</td>\n",
       "      <td>1342</td>\n",
       "      <td>18502</td>\n",
       "    </tr>\n",
       "    <tr>\n",
       "      <th>1</th>\n",
       "      <td>2010-01</td>\n",
       "      <td>2</td>\n",
       "      <td>Category A</td>\n",
       "      <td>1151</td>\n",
       "      <td>1149</td>\n",
       "      <td>1673</td>\n",
       "      <td>20501</td>\n",
       "    </tr>\n",
       "    <tr>\n",
       "      <th>2</th>\n",
       "      <td>2010-02</td>\n",
       "      <td>1</td>\n",
       "      <td>Category A</td>\n",
       "      <td>1154</td>\n",
       "      <td>1153</td>\n",
       "      <td>1326</td>\n",
       "      <td>19989</td>\n",
       "    </tr>\n",
       "    <tr>\n",
       "      <th>3</th>\n",
       "      <td>2010-02</td>\n",
       "      <td>2</td>\n",
       "      <td>Category A</td>\n",
       "      <td>1148</td>\n",
       "      <td>1148</td>\n",
       "      <td>1493</td>\n",
       "      <td>20340</td>\n",
       "    </tr>\n",
       "    <tr>\n",
       "      <th>4</th>\n",
       "      <td>2010-03</td>\n",
       "      <td>1</td>\n",
       "      <td>Category A</td>\n",
       "      <td>1148</td>\n",
       "      <td>1141</td>\n",
       "      <td>1758</td>\n",
       "      <td>20802</td>\n",
       "    </tr>\n",
       "  </tbody>\n",
       "</table>\n",
       "</div>"
      ],
      "text/plain": [
       "     month  bidding_no vehicle_class  quota  bids_success  bids_received  \\\n",
       "0  2010-01           1    Category A   1152          1145           1342   \n",
       "1  2010-01           2    Category A   1151          1149           1673   \n",
       "2  2010-02           1    Category A   1154          1153           1326   \n",
       "3  2010-02           2    Category A   1148          1148           1493   \n",
       "4  2010-03           1    Category A   1148          1141           1758   \n",
       "\n",
       "   premium  \n",
       "0    18502  \n",
       "1    20501  \n",
       "2    19989  \n",
       "3    20340  \n",
       "4    20802  "
      ]
     },
     "execution_count": 2,
     "metadata": {},
     "output_type": "execute_result"
    }
   ],
   "source": [
    "COE.head(5)"
   ]
  },
  {
   "cell_type": "code",
   "execution_count": 3,
   "metadata": {},
   "outputs": [
    {
     "data": {
      "text/html": [
       "<div>\n",
       "<style scoped>\n",
       "    .dataframe tbody tr th:only-of-type {\n",
       "        vertical-align: middle;\n",
       "    }\n",
       "\n",
       "    .dataframe tbody tr th {\n",
       "        vertical-align: top;\n",
       "    }\n",
       "\n",
       "    .dataframe thead th {\n",
       "        text-align: right;\n",
       "    }\n",
       "</style>\n",
       "<table border=\"1\" class=\"dataframe\">\n",
       "  <thead>\n",
       "    <tr style=\"text-align: right;\">\n",
       "      <th></th>\n",
       "      <th>month</th>\n",
       "      <th>bidding_no</th>\n",
       "      <th>vehicle_class</th>\n",
       "      <th>quota</th>\n",
       "      <th>bids_success</th>\n",
       "      <th>bids_received</th>\n",
       "      <th>premium</th>\n",
       "    </tr>\n",
       "  </thead>\n",
       "  <tbody>\n",
       "    <tr>\n",
       "      <th>192</th>\n",
       "      <td>2018-01</td>\n",
       "      <td>1</td>\n",
       "      <td>Category A</td>\n",
       "      <td>1693</td>\n",
       "      <td>1693</td>\n",
       "      <td>2264</td>\n",
       "      <td>41400</td>\n",
       "    </tr>\n",
       "    <tr>\n",
       "      <th>193</th>\n",
       "      <td>2018-01</td>\n",
       "      <td>2</td>\n",
       "      <td>Category A</td>\n",
       "      <td>1713</td>\n",
       "      <td>1708</td>\n",
       "      <td>1938</td>\n",
       "      <td>36890</td>\n",
       "    </tr>\n",
       "    <tr>\n",
       "      <th>194</th>\n",
       "      <td>2018-02</td>\n",
       "      <td>1</td>\n",
       "      <td>Category A</td>\n",
       "      <td>1557</td>\n",
       "      <td>1534</td>\n",
       "      <td>2389</td>\n",
       "      <td>40000</td>\n",
       "    </tr>\n",
       "    <tr>\n",
       "      <th>195</th>\n",
       "      <td>2018-02</td>\n",
       "      <td>2</td>\n",
       "      <td>Category A</td>\n",
       "      <td>1562</td>\n",
       "      <td>1561</td>\n",
       "      <td>2073</td>\n",
       "      <td>36810</td>\n",
       "    </tr>\n",
       "    <tr>\n",
       "      <th>196</th>\n",
       "      <td>2018-03</td>\n",
       "      <td>1</td>\n",
       "      <td>Category A</td>\n",
       "      <td>1580</td>\n",
       "      <td>1572</td>\n",
       "      <td>2405</td>\n",
       "      <td>38830</td>\n",
       "    </tr>\n",
       "  </tbody>\n",
       "</table>\n",
       "</div>"
      ],
      "text/plain": [
       "       month  bidding_no vehicle_class  quota  bids_success  bids_received  \\\n",
       "192  2018-01           1    Category A   1693          1693           2264   \n",
       "193  2018-01           2    Category A   1713          1708           1938   \n",
       "194  2018-02           1    Category A   1557          1534           2389   \n",
       "195  2018-02           2    Category A   1562          1561           2073   \n",
       "196  2018-03           1    Category A   1580          1572           2405   \n",
       "\n",
       "     premium  \n",
       "192    41400  \n",
       "193    36890  \n",
       "194    40000  \n",
       "195    36810  \n",
       "196    38830  "
      ]
     },
     "execution_count": 3,
     "metadata": {},
     "output_type": "execute_result"
    }
   ],
   "source": [
    "COE.tail(5)"
   ]
  },
  {
   "cell_type": "markdown",
   "metadata": {},
   "source": [
    "We next check the type of data to see if we need to change any of them.  \n",
    "Note that datatype object in a panda dataframe refers to a string."
   ]
  },
  {
   "cell_type": "code",
   "execution_count": 4,
   "metadata": {},
   "outputs": [
    {
     "data": {
      "text/plain": [
       "month            object\n",
       "bidding_no        int64\n",
       "vehicle_class    object\n",
       "quota             int64\n",
       "bids_success      int64\n",
       "bids_received     int64\n",
       "premium           int64\n",
       "dtype: object"
      ]
     },
     "execution_count": 4,
     "metadata": {},
     "output_type": "execute_result"
    }
   ],
   "source": [
    "COE.dtypes"
   ]
  },
  {
   "cell_type": "markdown",
   "metadata": {},
   "source": [
    "We noted that month is read in as an object (a string).  However, it is actually a date-type of data.\n",
    "\n",
    "We can convert it to a date-type of obect. First, we must make some assumptions about the data to modify it for our purposes. You will note that our original month data is in the YYYY-MM format.  However, in panda dataframe, the date datatype is in YYYY-MM-DD type.  The day is missing from our data.\n",
    "\n",
    "Python will insert a default day (1) in place of the missing day data.  However, there are two bidding days each month and when we convert the month data to a date type data, the two days within the same month cannot be distinguished from each other if we allow the python default value to be inserted for both of them.\n",
    "\n",
    "For example, row 1 (index 0) and row 2 (index 1)  have the same YYYY-MM data:  2010-01.  We distinguish between the two bids by the second column (bidding_no)\n",
    "\n",
    "When converted to the date type of data, both will show the same date  2010-01-01\n",
    "\n",
    "Hence, we assume that the first bid of the month takes place on 1st and the second bid on 15th.\n",
    "\n",
    "We create a new column called month modified to show the days of the first and second bid for the month.\n",
    "\n",
    "The first row of code below  adds the day 01 to all the dates shown in the month column.\n",
    "\n",
    "The second row of code makes a conditional assignment:  if the bidding_no is 2, the second bid of the month, then we insert the day as 15.\n",
    "\n",
    "The code \n",
    "\n",
    "COE.loc[COE['bidding_no'] == 2, 'month_modified'] = COE['month']+'-15'\n",
    "\n",
    "looks at the column with the name 'bidding_no' and is if it is 2, the value in column 'month_modified' is YYYY-MM-15.  COE['month'] contains the YYYY-MM value and the + is a concatenation operator.\n",
    "\n",
    "Note that all these operations are done with the datatype in 'month' and 'month_modified' as strings."
   ]
  },
  {
   "cell_type": "code",
   "execution_count": 3,
   "metadata": {},
   "outputs": [
    {
     "data": {
      "text/plain": [
       "0    2010-01-01\n",
       "1    2010-01-15\n",
       "2    2010-02-01\n",
       "3    2010-02-15\n",
       "4    2010-03-01\n",
       "Name: month_modified, dtype: object"
      ]
     },
     "execution_count": 3,
     "metadata": {},
     "output_type": "execute_result"
    }
   ],
   "source": [
    "COE['month_modified'] = COE['month']+'-01'\n",
    "COE.loc[COE['bidding_no'] == 2, 'month_modified'] = COE['month']+'-15'\n",
    "COE['month_modified'].head(5)"
   ]
  },
  {
   "cell_type": "markdown",
   "metadata": {},
   "source": [
    "We convert the datatype for 'month_modified' from string to datetime."
   ]
  },
  {
   "cell_type": "code",
   "execution_count": 4,
   "metadata": {},
   "outputs": [
    {
     "data": {
      "text/plain": [
       "0     2010-01-01\n",
       "1     2010-01-15\n",
       "2     2010-02-01\n",
       "3     2010-02-15\n",
       "4     2010-03-01\n",
       "5     2010-03-15\n",
       "6     2010-04-01\n",
       "7     2010-04-15\n",
       "8     2010-05-01\n",
       "9     2010-05-15\n",
       "10    2010-06-01\n",
       "11    2010-06-15\n",
       "12    2010-07-01\n",
       "13    2010-07-15\n",
       "14    2010-08-01\n",
       "15    2010-08-15\n",
       "16    2010-09-01\n",
       "17    2010-09-15\n",
       "18    2010-10-01\n",
       "19    2010-10-15\n",
       "20    2010-11-01\n",
       "21    2010-11-15\n",
       "22    2010-12-01\n",
       "23    2010-12-15\n",
       "24    2011-01-01\n",
       "25    2011-01-15\n",
       "26    2011-02-01\n",
       "27    2011-02-15\n",
       "28    2011-03-01\n",
       "29    2011-03-15\n",
       "         ...    \n",
       "167   2016-12-15\n",
       "168   2017-01-01\n",
       "169   2017-01-15\n",
       "170   2017-02-01\n",
       "171   2017-02-15\n",
       "172   2017-03-01\n",
       "173   2017-03-15\n",
       "174   2017-04-01\n",
       "175   2017-04-15\n",
       "176   2017-05-01\n",
       "177   2017-05-15\n",
       "178   2017-06-01\n",
       "179   2017-06-15\n",
       "180   2017-07-01\n",
       "181   2017-07-15\n",
       "182   2017-08-01\n",
       "183   2017-08-15\n",
       "184   2017-09-01\n",
       "185   2017-09-15\n",
       "186   2017-10-01\n",
       "187   2017-10-15\n",
       "188   2017-11-01\n",
       "189   2017-11-15\n",
       "190   2017-12-01\n",
       "191   2017-12-15\n",
       "192   2018-01-01\n",
       "193   2018-01-15\n",
       "194   2018-02-01\n",
       "195   2018-02-15\n",
       "196   2018-03-01\n",
       "Name: month_modified, Length: 197, dtype: datetime64[ns]"
      ]
     },
     "execution_count": 4,
     "metadata": {},
     "output_type": "execute_result"
    }
   ],
   "source": [
    "pd.to_datetime(COE['month_modified'])"
   ]
  },
  {
   "cell_type": "markdown",
   "metadata": {},
   "source": [
    "##  2.0 Basic Plots"
   ]
  },
  {
   "cell_type": "markdown",
   "metadata": {
    "collapsed": true
   },
   "source": [
    "We first plot some graphs to see how what the data looks like.\n",
    "\n",
    "matplotlib is the most common library used for plotting the data\n",
    "\n",
    "The first plot we want to look at a basic line plot  It shows the trend of the COE price from 2010 to 2018.\n",
    "\n",
    "Pandas has a built-in plot function.  The syntax is DataFrame.plot.  Documentation is given in the website:\n",
    "\n",
    "https://pandas.pydata.org/pandas-docs/stable/generated/pandas.DataFrame.plot.html\n",
    "\n",
    "Here, you have to set the x-axis labels if it does not show up in the plot by the command:\n",
    "\n",
    "ax.set_xticklabels"
   ]
  },
  {
   "cell_type": "code",
   "execution_count": 44,
   "metadata": {
    "scrolled": true
   },
   "outputs": [
    {
     "data": {
      "image/png": "[encoded data removed]",
      "text/plain": [
       "<Figure size 1440x720 with 1 Axes>"
      ]
     },
     "metadata": {},
     "output_type": "display_data"
    }
   ],
   "source": [
    "title_text = 'COE Prices from January 2010 to March 2018'\n",
    "ax = COE.plot(x='month_modified', y='premium',figsize = (20,10), title=title_text,grid = True, legend =True, rot=90)\n",
    "ax.set_xticklabels(COE[\"month_modified\"]);\n"
   ]
  },
  {
   "cell_type": "markdown",
   "metadata": {},
   "source": [
    "Another useful plot is the histogram.  \n",
    "It shows the frequency of each category of COE prices.  \n",
    "This provides us with a good idea of the distribution of the data.\n",
    "\n",
    "Here, we divide the prices into 10 bins or categories.  \n",
    "It is noted that the most frequent prices range from $45,000 to $70,000.\n",
    "\n",
    "Since the hist plot is a function within matplotlib, we must import the library before using the plt.hist command\n",
    "\n",
    "The documentation is given in:\n",
    "https://matplotlib.org/api/_as_gen/matplotlib.pyplot.hist.html\n",
    "\n",
    "The plt.figure(figsize=(20,10)) command sets the size of the figure.\n",
    "\n",
    "The \"ec\" parameter belw refers to the edgecolor - the color of lines between the bins.  The default is none.\n"
   ]
  },
  {
   "cell_type": "code",
   "execution_count": 54,
   "metadata": {},
   "outputs": [
    {
     "data": {
      "image/png": "[encoded data removed]",
      "text/plain": [
       "<Figure size 1440x720 with 1 Axes>"
      ]
     },
     "metadata": {},
     "output_type": "display_data"
    }
   ],
   "source": [
    "import matplotlib.pyplot as plt\n",
    "\n",
    "plt.figure(figsize=(20,10))\n",
    "plt.hist(COE['premium'], bins=10, color = 'red', ec ='black');\n"
   ]
  },
  {
   "cell_type": "markdown",
   "metadata": {},
   "source": [
    "## 3.0  Basic Descriptive Statistics"
   ]
  },
  {
   "cell_type": "markdown",
   "metadata": {},
   "source": [
    "Next we look at the descriptive statistics of the COE premium.  This would be the minimum, maximum, mean, median, and standard deviation.  We can do this easily by using the functions from the numpy library.\n",
    "\n",
    "We import the numpy library first. "
   ]
  },
  {
   "cell_type": "code",
   "execution_count": 32,
   "metadata": {},
   "outputs": [
    {
     "name": "stdout",
     "output_type": "stream",
     "text": [
      "Minimum:  18502\n",
      "Maximum:  92100\n",
      "Mean:  54714.0\n",
      "Median:  54301.0\n",
      "Standard Deviation:  14809.0\n"
     ]
    }
   ],
   "source": [
    "import numpy as np\n",
    "Minimum = round(np.min(COE['premium']),0)\n",
    "Maximum = round(np.max(COE['premium']),0)\n",
    "Mean = round(np.mean(COE['premium']),0)\n",
    "Median = round(np.median(COE['premium']),0)\n",
    "Sd = round(np.std(COE['premium']),0)\n",
    "\n",
    "#print the values\n",
    "print('Minimum: ', Minimum)\n",
    "print('Maximum: ', Maximum)\n",
    "print('Mean: ', Mean)\n",
    "print('Median: ', Median)\n",
    "print('Standard Deviation: ', Sd)"
   ]
  },
  {
   "cell_type": "markdown",
   "metadata": {},
   "source": [
    "The basic statistics whow that you life is unfair - you could drive exactly the same car but pay very different price for it because of the COE.  THe maximum COE of $92,100 is almost five times the minimum of $18,502; and almost twice the median.\n",
    "\n",
    "The standard deviation, $14,809, indicates the degree of variation in the COE price.  Its value is about a quarter of the mean - which we take as not being too severe.  However, the high level of the mean ($54,714) seen in the context of a typical non-luxury car (less $40,000) gives the perception that the COE is expensive."
   ]
  },
  {
   "cell_type": "markdown",
   "metadata": {},
   "source": [
    "Let's say we want to compare the COE prices across the different years.\n",
    "\n",
    "To do so, we must first identify and group all the observations belonging to the same year.  Note that that our date data are in two columns:\n",
    "\n",
    "month :  YYYY-MM (datatype:  string)\n",
    "month_modified:  YYYY-MM-DD (datatype:  datetime64[ns])\n",
    "\n",
    "We only wish to group according to years.  The presence of the month and day information in the above two columns complicate the grouping task.\n",
    "\n",
    "So apply the pd.DatetimeIndex method to the data in the \"month_modified\" column.  This method saves the datetime data in a format that allows us to separate the date components into day, month and year  We can then extract the year as a new variable. "
   ]
  },
  {
   "cell_type": "code",
   "execution_count": 5,
   "metadata": {},
   "outputs": [
    {
     "data": {
      "text/html": [
       "<div>\n",
       "<style scoped>\n",
       "    .dataframe tbody tr th:only-of-type {\n",
       "        vertical-align: middle;\n",
       "    }\n",
       "\n",
       "    .dataframe tbody tr th {\n",
       "        vertical-align: top;\n",
       "    }\n",
       "\n",
       "    .dataframe thead th {\n",
       "        text-align: right;\n",
       "    }\n",
       "</style>\n",
       "<table border=\"1\" class=\"dataframe\">\n",
       "  <thead>\n",
       "    <tr style=\"text-align: right;\">\n",
       "      <th></th>\n",
       "      <th>month</th>\n",
       "      <th>bidding_no</th>\n",
       "      <th>vehicle_class</th>\n",
       "      <th>quota</th>\n",
       "      <th>bids_success</th>\n",
       "      <th>bids_received</th>\n",
       "      <th>premium</th>\n",
       "      <th>month_modified</th>\n",
       "      <th>year</th>\n",
       "    </tr>\n",
       "  </thead>\n",
       "  <tbody>\n",
       "    <tr>\n",
       "      <th>0</th>\n",
       "      <td>2010-01</td>\n",
       "      <td>1</td>\n",
       "      <td>Category A</td>\n",
       "      <td>1152</td>\n",
       "      <td>1145</td>\n",
       "      <td>1342</td>\n",
       "      <td>18502</td>\n",
       "      <td>2010-01-01</td>\n",
       "      <td>2010</td>\n",
       "    </tr>\n",
       "    <tr>\n",
       "      <th>1</th>\n",
       "      <td>2010-01</td>\n",
       "      <td>2</td>\n",
       "      <td>Category A</td>\n",
       "      <td>1151</td>\n",
       "      <td>1149</td>\n",
       "      <td>1673</td>\n",
       "      <td>20501</td>\n",
       "      <td>2010-01-15</td>\n",
       "      <td>2010</td>\n",
       "    </tr>\n",
       "    <tr>\n",
       "      <th>2</th>\n",
       "      <td>2010-02</td>\n",
       "      <td>1</td>\n",
       "      <td>Category A</td>\n",
       "      <td>1154</td>\n",
       "      <td>1153</td>\n",
       "      <td>1326</td>\n",
       "      <td>19989</td>\n",
       "      <td>2010-02-01</td>\n",
       "      <td>2010</td>\n",
       "    </tr>\n",
       "    <tr>\n",
       "      <th>3</th>\n",
       "      <td>2010-02</td>\n",
       "      <td>2</td>\n",
       "      <td>Category A</td>\n",
       "      <td>1148</td>\n",
       "      <td>1148</td>\n",
       "      <td>1493</td>\n",
       "      <td>20340</td>\n",
       "      <td>2010-02-15</td>\n",
       "      <td>2010</td>\n",
       "    </tr>\n",
       "    <tr>\n",
       "      <th>4</th>\n",
       "      <td>2010-03</td>\n",
       "      <td>1</td>\n",
       "      <td>Category A</td>\n",
       "      <td>1148</td>\n",
       "      <td>1141</td>\n",
       "      <td>1758</td>\n",
       "      <td>20802</td>\n",
       "      <td>2010-03-01</td>\n",
       "      <td>2010</td>\n",
       "    </tr>\n",
       "    <tr>\n",
       "      <th>5</th>\n",
       "      <td>2010-03</td>\n",
       "      <td>2</td>\n",
       "      <td>Category A</td>\n",
       "      <td>1146</td>\n",
       "      <td>1137</td>\n",
       "      <td>2183</td>\n",
       "      <td>28389</td>\n",
       "      <td>2010-03-15</td>\n",
       "      <td>2010</td>\n",
       "    </tr>\n",
       "    <tr>\n",
       "      <th>6</th>\n",
       "      <td>2010-04</td>\n",
       "      <td>1</td>\n",
       "      <td>Category A</td>\n",
       "      <td>705</td>\n",
       "      <td>597</td>\n",
       "      <td>1379</td>\n",
       "      <td>34001</td>\n",
       "      <td>2010-04-01</td>\n",
       "      <td>2010</td>\n",
       "    </tr>\n",
       "    <tr>\n",
       "      <th>7</th>\n",
       "      <td>2010-04</td>\n",
       "      <td>2</td>\n",
       "      <td>Category A</td>\n",
       "      <td>706</td>\n",
       "      <td>704</td>\n",
       "      <td>1242</td>\n",
       "      <td>30000</td>\n",
       "      <td>2010-04-15</td>\n",
       "      <td>2010</td>\n",
       "    </tr>\n",
       "    <tr>\n",
       "      <th>8</th>\n",
       "      <td>2010-05</td>\n",
       "      <td>1</td>\n",
       "      <td>Category A</td>\n",
       "      <td>806</td>\n",
       "      <td>798</td>\n",
       "      <td>1294</td>\n",
       "      <td>26102</td>\n",
       "      <td>2010-05-01</td>\n",
       "      <td>2010</td>\n",
       "    </tr>\n",
       "    <tr>\n",
       "      <th>9</th>\n",
       "      <td>2010-05</td>\n",
       "      <td>2</td>\n",
       "      <td>Category A</td>\n",
       "      <td>699</td>\n",
       "      <td>697</td>\n",
       "      <td>1036</td>\n",
       "      <td>27389</td>\n",
       "      <td>2010-05-15</td>\n",
       "      <td>2010</td>\n",
       "    </tr>\n",
       "  </tbody>\n",
       "</table>\n",
       "</div>"
      ],
      "text/plain": [
       "     month  bidding_no vehicle_class  quota  bids_success  bids_received  \\\n",
       "0  2010-01           1    Category A   1152          1145           1342   \n",
       "1  2010-01           2    Category A   1151          1149           1673   \n",
       "2  2010-02           1    Category A   1154          1153           1326   \n",
       "3  2010-02           2    Category A   1148          1148           1493   \n",
       "4  2010-03           1    Category A   1148          1141           1758   \n",
       "5  2010-03           2    Category A   1146          1137           2183   \n",
       "6  2010-04           1    Category A    705           597           1379   \n",
       "7  2010-04           2    Category A    706           704           1242   \n",
       "8  2010-05           1    Category A    806           798           1294   \n",
       "9  2010-05           2    Category A    699           697           1036   \n",
       "\n",
       "   premium month_modified  year  \n",
       "0    18502     2010-01-01  2010  \n",
       "1    20501     2010-01-15  2010  \n",
       "2    19989     2010-02-01  2010  \n",
       "3    20340     2010-02-15  2010  \n",
       "4    20802     2010-03-01  2010  \n",
       "5    28389     2010-03-15  2010  \n",
       "6    34001     2010-04-01  2010  \n",
       "7    30000     2010-04-15  2010  \n",
       "8    26102     2010-05-01  2010  \n",
       "9    27389     2010-05-15  2010  "
      ]
     },
     "execution_count": 5,
     "metadata": {},
     "output_type": "execute_result"
    }
   ],
   "source": [
    "dates = pd.DatetimeIndex(COE['month_modified'])\n",
    "COE['year'] = dates.year\n",
    "COE.head(10)"
   ]
  },
  {
   "cell_type": "code",
   "execution_count": 56,
   "metadata": {},
   "outputs": [
    {
     "data": {
      "text/html": [
       "<div>\n",
       "<style scoped>\n",
       "    .dataframe tbody tr th:only-of-type {\n",
       "        vertical-align: middle;\n",
       "    }\n",
       "\n",
       "    .dataframe tbody tr th {\n",
       "        vertical-align: top;\n",
       "    }\n",
       "\n",
       "    .dataframe thead th {\n",
       "        text-align: right;\n",
       "    }\n",
       "</style>\n",
       "<table border=\"1\" class=\"dataframe\">\n",
       "  <thead>\n",
       "    <tr style=\"text-align: right;\">\n",
       "      <th></th>\n",
       "      <th>month</th>\n",
       "      <th>bidding_no</th>\n",
       "      <th>vehicle_class</th>\n",
       "      <th>quota</th>\n",
       "      <th>bids_success</th>\n",
       "      <th>bids_received</th>\n",
       "      <th>premium</th>\n",
       "      <th>month_modified</th>\n",
       "      <th>year</th>\n",
       "    </tr>\n",
       "  </thead>\n",
       "  <tbody>\n",
       "    <tr>\n",
       "      <th>187</th>\n",
       "      <td>2017-10</td>\n",
       "      <td>2</td>\n",
       "      <td>Category A</td>\n",
       "      <td>1815</td>\n",
       "      <td>1809</td>\n",
       "      <td>2391</td>\n",
       "      <td>41617</td>\n",
       "      <td>2017-10-15</td>\n",
       "      <td>2017</td>\n",
       "    </tr>\n",
       "    <tr>\n",
       "      <th>188</th>\n",
       "      <td>2017-11</td>\n",
       "      <td>1</td>\n",
       "      <td>Category A</td>\n",
       "      <td>1683</td>\n",
       "      <td>1683</td>\n",
       "      <td>3430</td>\n",
       "      <td>47112</td>\n",
       "      <td>2017-11-01</td>\n",
       "      <td>2017</td>\n",
       "    </tr>\n",
       "    <tr>\n",
       "      <th>189</th>\n",
       "      <td>2017-11</td>\n",
       "      <td>2</td>\n",
       "      <td>Category A</td>\n",
       "      <td>1686</td>\n",
       "      <td>1679</td>\n",
       "      <td>2721</td>\n",
       "      <td>46791</td>\n",
       "      <td>2017-11-15</td>\n",
       "      <td>2017</td>\n",
       "    </tr>\n",
       "    <tr>\n",
       "      <th>190</th>\n",
       "      <td>2017-12</td>\n",
       "      <td>1</td>\n",
       "      <td>Category A</td>\n",
       "      <td>1680</td>\n",
       "      <td>1667</td>\n",
       "      <td>2158</td>\n",
       "      <td>42339</td>\n",
       "      <td>2017-12-01</td>\n",
       "      <td>2017</td>\n",
       "    </tr>\n",
       "    <tr>\n",
       "      <th>191</th>\n",
       "      <td>2017-12</td>\n",
       "      <td>2</td>\n",
       "      <td>Category A</td>\n",
       "      <td>1687</td>\n",
       "      <td>1654</td>\n",
       "      <td>1970</td>\n",
       "      <td>38200</td>\n",
       "      <td>2017-12-15</td>\n",
       "      <td>2017</td>\n",
       "    </tr>\n",
       "    <tr>\n",
       "      <th>192</th>\n",
       "      <td>2018-01</td>\n",
       "      <td>1</td>\n",
       "      <td>Category A</td>\n",
       "      <td>1693</td>\n",
       "      <td>1693</td>\n",
       "      <td>2264</td>\n",
       "      <td>41400</td>\n",
       "      <td>2018-01-01</td>\n",
       "      <td>2018</td>\n",
       "    </tr>\n",
       "    <tr>\n",
       "      <th>193</th>\n",
       "      <td>2018-01</td>\n",
       "      <td>2</td>\n",
       "      <td>Category A</td>\n",
       "      <td>1713</td>\n",
       "      <td>1708</td>\n",
       "      <td>1938</td>\n",
       "      <td>36890</td>\n",
       "      <td>2018-01-15</td>\n",
       "      <td>2018</td>\n",
       "    </tr>\n",
       "    <tr>\n",
       "      <th>194</th>\n",
       "      <td>2018-02</td>\n",
       "      <td>1</td>\n",
       "      <td>Category A</td>\n",
       "      <td>1557</td>\n",
       "      <td>1534</td>\n",
       "      <td>2389</td>\n",
       "      <td>40000</td>\n",
       "      <td>2018-02-01</td>\n",
       "      <td>2018</td>\n",
       "    </tr>\n",
       "    <tr>\n",
       "      <th>195</th>\n",
       "      <td>2018-02</td>\n",
       "      <td>2</td>\n",
       "      <td>Category A</td>\n",
       "      <td>1562</td>\n",
       "      <td>1561</td>\n",
       "      <td>2073</td>\n",
       "      <td>36810</td>\n",
       "      <td>2018-02-15</td>\n",
       "      <td>2018</td>\n",
       "    </tr>\n",
       "    <tr>\n",
       "      <th>196</th>\n",
       "      <td>2018-03</td>\n",
       "      <td>1</td>\n",
       "      <td>Category A</td>\n",
       "      <td>1580</td>\n",
       "      <td>1572</td>\n",
       "      <td>2405</td>\n",
       "      <td>38830</td>\n",
       "      <td>2018-03-01</td>\n",
       "      <td>2018</td>\n",
       "    </tr>\n",
       "  </tbody>\n",
       "</table>\n",
       "</div>"
      ],
      "text/plain": [
       "       month  bidding_no vehicle_class  quota  bids_success  bids_received  \\\n",
       "187  2017-10           2    Category A   1815          1809           2391   \n",
       "188  2017-11           1    Category A   1683          1683           3430   \n",
       "189  2017-11           2    Category A   1686          1679           2721   \n",
       "190  2017-12           1    Category A   1680          1667           2158   \n",
       "191  2017-12           2    Category A   1687          1654           1970   \n",
       "192  2018-01           1    Category A   1693          1693           2264   \n",
       "193  2018-01           2    Category A   1713          1708           1938   \n",
       "194  2018-02           1    Category A   1557          1534           2389   \n",
       "195  2018-02           2    Category A   1562          1561           2073   \n",
       "196  2018-03           1    Category A   1580          1572           2405   \n",
       "\n",
       "     premium month_modified  year  \n",
       "187    41617     2017-10-15  2017  \n",
       "188    47112     2017-11-01  2017  \n",
       "189    46791     2017-11-15  2017  \n",
       "190    42339     2017-12-01  2017  \n",
       "191    38200     2017-12-15  2017  \n",
       "192    41400     2018-01-01  2018  \n",
       "193    36890     2018-01-15  2018  \n",
       "194    40000     2018-02-01  2018  \n",
       "195    36810     2018-02-15  2018  \n",
       "196    38830     2018-03-01  2018  "
      ]
     },
     "execution_count": 56,
     "metadata": {},
     "output_type": "execute_result"
    }
   ],
   "source": [
    "COE.tail(10)"
   ]
  },
  {
   "cell_type": "markdown",
   "metadata": {},
   "source": [
    "We use the .groupby method to group the data by year.\n",
    "\n",
    "The grouped variable, groupByYear is now a GroupBy object.  This does not do anything to the data yet.  It just holds information in a manner that allows us to apply operations the groups defined.  "
   ]
  },
  {
   "cell_type": "code",
   "execution_count": 58,
   "metadata": {},
   "outputs": [
    {
     "data": {
      "text/plain": [
       "<pandas.core.groupby.DataFrameGroupBy object at 0x000001F2A85B5C18>"
      ]
     },
     "execution_count": 58,
     "metadata": {},
     "output_type": "execute_result"
    }
   ],
   "source": [
    "groupByYear = COE.groupby(COE['year'])\n",
    "groupByYear"
   ]
  },
  {
   "cell_type": "markdown",
   "metadata": {},
   "source": [
    "We can then easily find out the mean value of the COE premium for each year."
   ]
  },
  {
   "cell_type": "code",
   "execution_count": 59,
   "metadata": {},
   "outputs": [
    {
     "data": {
      "text/plain": [
       "year\n",
       "2010    30382.0\n",
       "2011    48206.0\n",
       "2012    63898.0\n",
       "2013    74690.0\n",
       "2014    67675.0\n",
       "2015    60601.0\n",
       "2016    49587.0\n",
       "2017    45991.0\n",
       "2018    38786.0\n",
       "Name: premium, dtype: float64"
      ]
     },
     "execution_count": 59,
     "metadata": {},
     "output_type": "execute_result"
    }
   ],
   "source": [
    "round(groupByYear['premium'].mean(),0)"
   ]
  },
  {
   "cell_type": "markdown",
   "metadata": {},
   "source": [
    "Alternatively, we can plot the average COE prices for each year as illustrated below."
   ]
  },
  {
   "cell_type": "code",
   "execution_count": 70,
   "metadata": {},
   "outputs": [
    {
     "data": {
      "image/png": "[encoded data removed]",
      "text/plain": [
       "<Figure size 1440x720 with 1 Axes>"
      ]
     },
     "metadata": {},
     "output_type": "display_data"
    }
   ],
   "source": [
    "title_text = 'Avaerage Annual COE Prices from 2010 to 2018'\n",
    "\n",
    "COE.groupby('year').mean().plot(y='premium',figsize = (20,10), title=title_text,grid = True, legend =True, rot=90);\n"
   ]
  },
  {
   "cell_type": "markdown",
   "metadata": {},
   "source": [
    "The analysis by year shows that you are out of luck if you had to buy a car in 2013.  The average COE prices were the highest.  It started going down after that.  \n",
    "\n",
    "It would be interesting to find out whether there was significantly more than the usual number of cars less than 3 yeear old scrapped in 2016.  Those who bought cars with the expensive COE in 2013 may scarp their cars in 2016 to recover the unused value of the COE.  \n",
    "\n",
    "The value of the COE is decreases linearly to $0 at the end of 10 years.  So if you had bought the COE for $90,000, you can receive $63,000 of the COE value back if you scarp the car after three years ($100,000 x 7/10)."
   ]
  },
  {
   "cell_type": "markdown",
   "metadata": {},
   "source": [
    "Note that if you do not define the column (in our case above, it is 'premium') to take the mean for, the mean of all the columns containing numeric values will be computed."
   ]
  },
  {
   "cell_type": "code",
   "execution_count": 53,
   "metadata": {},
   "outputs": [
    {
     "data": {
      "text/html": [
       "<div>\n",
       "<table border=\"1\" class=\"dataframe\">\n",
       "  <thead>\n",
       "    <tr style=\"text-align: right;\">\n",
       "      <th></th>\n",
       "      <th>bidding_no</th>\n",
       "      <th>quota</th>\n",
       "      <th>bids_success</th>\n",
       "      <th>bids_received</th>\n",
       "      <th>premium</th>\n",
       "    </tr>\n",
       "    <tr>\n",
       "      <th>year</th>\n",
       "      <th></th>\n",
       "      <th></th>\n",
       "      <th></th>\n",
       "      <th></th>\n",
       "      <th></th>\n",
       "    </tr>\n",
       "  </thead>\n",
       "  <tbody>\n",
       "    <tr>\n",
       "      <th>2010</th>\n",
       "      <td>1.5</td>\n",
       "      <td>780.3</td>\n",
       "      <td>766.3</td>\n",
       "      <td>1120.8</td>\n",
       "      <td>30381.8</td>\n",
       "    </tr>\n",
       "    <tr>\n",
       "      <th>2011</th>\n",
       "      <td>1.5</td>\n",
       "      <td>542.8</td>\n",
       "      <td>529.5</td>\n",
       "      <td>886.0</td>\n",
       "      <td>48206.2</td>\n",
       "    </tr>\n",
       "    <tr>\n",
       "      <th>2012</th>\n",
       "      <td>1.5</td>\n",
       "      <td>537.9</td>\n",
       "      <td>522.4</td>\n",
       "      <td>779.9</td>\n",
       "      <td>63898.0</td>\n",
       "    </tr>\n",
       "    <tr>\n",
       "      <th>2013</th>\n",
       "      <td>1.5</td>\n",
       "      <td>355.6</td>\n",
       "      <td>352.3</td>\n",
       "      <td>706.7</td>\n",
       "      <td>74690.0</td>\n",
       "    </tr>\n",
       "    <tr>\n",
       "      <th>2014</th>\n",
       "      <td>1.5</td>\n",
       "      <td>509.6</td>\n",
       "      <td>505.3</td>\n",
       "      <td>879.3</td>\n",
       "      <td>67675.3</td>\n",
       "    </tr>\n",
       "    <tr>\n",
       "      <th>2015</th>\n",
       "      <td>1.5</td>\n",
       "      <td>1369.5</td>\n",
       "      <td>1359.5</td>\n",
       "      <td>2030.9</td>\n",
       "      <td>60601.2</td>\n",
       "    </tr>\n",
       "    <tr>\n",
       "      <th>2016</th>\n",
       "      <td>1.5</td>\n",
       "      <td>2030.6</td>\n",
       "      <td>2007.5</td>\n",
       "      <td>3081.8</td>\n",
       "      <td>49586.8</td>\n",
       "    </tr>\n",
       "    <tr>\n",
       "      <th>2017</th>\n",
       "      <td>1.5</td>\n",
       "      <td>1886.8</td>\n",
       "      <td>1874.7</td>\n",
       "      <td>2548.3</td>\n",
       "      <td>45990.7</td>\n",
       "    </tr>\n",
       "    <tr>\n",
       "      <th>2018</th>\n",
       "      <td>1.4</td>\n",
       "      <td>1621.0</td>\n",
       "      <td>1613.6</td>\n",
       "      <td>2213.8</td>\n",
       "      <td>38786.0</td>\n",
       "    </tr>\n",
       "  </tbody>\n",
       "</table>\n",
       "</div>"
      ],
      "text/plain": [
       "      bidding_no   quota  bids_success  bids_received  premium\n",
       "year                                                          \n",
       "2010         1.5   780.3         766.3         1120.8  30381.8\n",
       "2011         1.5   542.8         529.5          886.0  48206.2\n",
       "2012         1.5   537.9         522.4          779.9  63898.0\n",
       "2013         1.5   355.6         352.3          706.7  74690.0\n",
       "2014         1.5   509.6         505.3          879.3  67675.3\n",
       "2015         1.5  1369.5        1359.5         2030.9  60601.2\n",
       "2016         1.5  2030.6        2007.5         3081.8  49586.8\n",
       "2017         1.5  1886.8        1874.7         2548.3  45990.7\n",
       "2018         1.4  1621.0        1613.6         2213.8  38786.0"
      ]
     },
     "execution_count": 53,
     "metadata": {},
     "output_type": "execute_result"
    }
   ],
   "source": [
    "round(groupByYear.mean(),1)"
   ]
  },
  {
   "cell_type": "markdown",
   "metadata": {},
   "source": [
    "We can try to visualize the data for the different years to see how different they are.  Below we use the scatterplot."
   ]
  },
  {
   "cell_type": "code",
   "execution_count": 14,
   "metadata": {},
   "outputs": [
    {
     "data": {
      "image/png": "[encoded data removed]",
      "text/plain": [
       "<Figure size 1440x720 with 1 Axes>"
      ]
     },
     "metadata": {},
     "output_type": "display_data"
    }
   ],
   "source": [
    "import matplotlib.pyplot as plt\n",
    "plt.figure(figsize=(20,10))\n",
    "plt.scatter(COE['year'],COE['premium']);\n",
    "#plt.show()"
   ]
  },
  {
   "cell_type": "markdown",
   "metadata": {},
   "source": [
    "The scatterplot provides visual overview of the price movement over the years as well as the spread of the price during the each year.  We note that there are overlaps in prices from each year to the next - you could have paid more for a COE in a low average price year compared a higher average priced year. "
   ]
  },
  {
   "cell_type": "markdown",
   "metadata": {},
   "source": [
    "A more instructive chart would be a boxplot that is grouped byyear.  The boxplot shows the median of the premium.  The first quartile is the bottom of the box whilst the third quartile is the top of the box.  The first line beyond the upper and the lower boundry of the boxes are the whiskers.  The whiskers are the maximum (if whisker above top boundary of box) or minimum (if whisker below bottom boundary of box values) if there are no other values beyond the whisker.\n",
    "\n",
    "If there are values beyond the whiskers, the top whisker is actually 1.5*IQR above the top boundary of box.  The bottom whisker is 1.5*IQR below the bottom boundary of the box.  IQR is the interquartile range, defined as the (third quartile - first quartile).\n",
    "\n",
    "Any values beyond the whiskers are outliers."
   ]
  },
  {
   "cell_type": "code",
   "execution_count": 8,
   "metadata": {},
   "outputs": [
    {
     "data": {
      "image/png": "[encoded data removed]",
      "text/plain": [
       "<Figure size 1440x720 with 1 Axes>"
      ]
     },
     "metadata": {},
     "output_type": "display_data"
    }
   ],
   "source": [
    "COE.boxplot(column =['premium'], by = 'year', figsize = (20,10));"
   ]
  },
  {
   "cell_type": "markdown",
   "metadata": {},
   "source": [
    "The boxplot shows outliers in the bid for two years - 2010 and 2013.  2013's outliers were the highest bid within the nine years (eight complete years) studied.  It would be interesting to match it with other data to see what could have accounted for these extremely high bids.\n",
    "\n",
    "The boxplot also shows the interquartile range (where 50% of the prices reside) appear to be smaller when the general level of prices are lower.  Uncertaintly in price (indicated by the higher interquartile range) may lead to higher general level of prices that is evidenced by the patterns of teh boxplots above.   "
   ]
  },
  {
   "cell_type": "markdown",
   "metadata": {},
   "source": [
    "Visually, the boxplot shows that the means of the premiums may be  very different for the years.  We can run a formal statistical test to see if the groups (that is the premiums from different years) ALL come from the same distribution.  Note that there are nine groups there.  As long as there is one group different from the rest, the test will flag that the groups do not come from the same distribution.  This is called the ANOVA (Analysis of Variance) test.\n",
    "\n",
    "The null hypothesis is that all the data come from the same distribution.  The very small p-value in the results (PR>F) indicates that there is negligible probability that the null hypothesis can be true and yet produce the data that we have on hand.  \n",
    "\n",
    "Hence, we have to reject the null hypothesis that the premium for each year come from the same distribution. "
   ]
  },
  {
   "cell_type": "code",
   "execution_count": 67,
   "metadata": {},
   "outputs": [
    {
     "name": "stdout",
     "output_type": "stream",
     "text": [
      "             df        sum_sq       mean_sq           F        PR(>F)\n",
      "C(year)     8.0  3.541649e+10  4.427061e+09  106.920903  8.923209e-66\n",
      "Residual  188.0  7.784141e+09  4.140501e+07         NaN           NaN\n"
     ]
    }
   ],
   "source": [
    "from statsmodels.formula.api import ols\n",
    "from statsmodels.stats.anova import anova_lm\n",
    "\n",
    "model = ols('premium~C(year)',COE).fit()\n",
    "anovaResults = anova_lm(model)\n",
    "print(anovaResults)"
   ]
  },
  {
   "cell_type": "markdown",
   "metadata": {},
   "source": [
    "The above statistical test show that at least one of the nine groups are different from the rest.  Which specific groups are different, and which are the same?\n",
    "\n",
    "We can use the t-test to conduct pairwise comparisons of each group of data to find out which is the same and which are different.\n",
    "\n",
    "Below are two examples:  one comparing the year 2010 with the year 2013.  They are very different and the t-test show it.  The p-value is close to zero, which means that the null hypothesis (that the two groups are the same) can be rejected.\n",
    "\n",
    "The other example compare year 2011 to year 2017.  The p-value is 0.14 or 14%.  We do not reject the null hypothesis that the two groups are the same.\n",
    "\n",
    "Note:  we usually reject the null hypothesis when p value is less than 10%.  If you want to be strciter, we reject only when the p value is less than 5%.\n",
    "\n",
    "There are more complicated tests that can carry out the pairwise comparisons for all the pari at once.  However, this is to illustrate the general steps in a statiscal analysis and we shall not discuss the more complex techniques in this class. "
   ]
  },
  {
   "cell_type": "code",
   "execution_count": 91,
   "metadata": {},
   "outputs": [
    {
     "data": {
      "text/plain": [
       "Ttest_indResult(statistic=-19.061372121506277, pvalue=1.8136026981843356e-23)"
      ]
     },
     "execution_count": 91,
     "metadata": {},
     "output_type": "execute_result"
    }
   ],
   "source": [
    "stats.ttest_ind(groupByYear.get_group(2010)['premium'],groupByYear.get_group(2013)['premium'])"
   ]
  },
  {
   "cell_type": "code",
   "execution_count": 92,
   "metadata": {},
   "outputs": [
    {
     "data": {
      "text/plain": [
       "Ttest_indResult(statistic=1.4845219114403607, pvalue=0.14449130526750015)"
      ]
     },
     "execution_count": 92,
     "metadata": {},
     "output_type": "execute_result"
    }
   ],
   "source": [
    "stats.ttest_ind(groupByYear.get_group(2011)['premium'],groupByYear.get_group(2017)['premium'])"
   ]
  },
  {
   "cell_type": "code",
   "execution_count": 94,
   "metadata": {},
   "outputs": [
    {
     "name": "stdout",
     "output_type": "stream",
     "text": [
      "-19.0613721215 1.81360269818e-23\n"
     ]
    }
   ],
   "source": [
    "t, p = stats.ttest_ind(groupByYear.get_group(2010)['premium'],groupByYear.get_group(2013)['premium'])\n",
    "print(t, p)"
   ]
  },
  {
   "cell_type": "code",
   "execution_count": 100,
   "metadata": {},
   "outputs": [
    {
     "name": "stdout",
     "output_type": "stream",
     "text": [
      "Comparion Years:  2010   2011   t =  -9.27333931452  p =  4.23786767436e-12 significant\n",
      "Comparion Years:  2010   2012   t =  -13.6271213968  p =  9.20964346363e-18 significant\n",
      "Comparion Years:  2010   2013   t =  -19.0613721215  p =  1.81360269818e-23 significant\n",
      "Comparion Years:  2010   2014   t =  -19.5731452036  p =  6.11141130445e-24 significant\n",
      "Comparion Years:  2010   2015   t =  -16.796268668  p =  2.98111405847e-21 significant\n",
      "Comparion Years:  2010   2016   t =  -11.5331315357  p =  3.60327442693e-15 significant\n",
      "Comparion Years:  2010   2017   t =  -8.785577647  p =  2.11329240162e-11 significant\n",
      "Comparion Years:  2011   2012   t =  -6.93471251745  p =  1.14175521346e-08 significant\n",
      "Comparion Years:  2011   2013   t =  -12.520409936  p =  2.01493860847e-16 significant\n",
      "Comparion Years:  2011   2014   t =  -11.845686445  p =  1.42658740112e-15 significant\n",
      "Comparion Years:  2011   2015   t =  -8.15883274996  p =  1.7267980161e-10 significant\n",
      "Comparion Years:  2011   2016   t =  -1.0166577675  p =  0.314633901235  \n",
      "Comparion Years:  2011   2017   t =  1.48452191144  p =  0.144491305268  \n",
      "Comparion Years:  2012   2013   t =  -4.12973237034  p =  0.000151463098873 significant\n",
      "Comparion Years:  2012   2014   t =  -1.67987295859  p =  0.0997622872592  \n",
      "Comparion Years:  2012   2015   t =  1.52680523139  p =  0.13365672603  \n",
      "Comparion Years:  2012   2016   t =  6.98438686923  p =  9.61703881789e-09 significant\n",
      "Comparion Years:  2012   2017   t =  8.36560237958  p =  8.59946551207e-11 significant\n",
      "Comparion Years:  2013   2014   t =  3.34029282224  p =  0.00166739873542 significant\n",
      "Comparion Years:  2013   2015   t =  7.02970960853  p =  8.22373407613e-09 significant\n",
      "Comparion Years:  2013   2016   t =  13.3185091992  p =  2.14409819966e-17 significant\n",
      "Comparion Years:  2013   2017   t =  14.4654862146  p =  9.83082179992e-19 significant\n",
      "Comparion Years:  2014   2015   t =  4.72264995896  p =  2.2153540787e-05 significant\n",
      "Comparion Years:  2014   2016   t =  13.559343316  p =  1.10766541655e-17 significant\n",
      "Comparion Years:  2014   2017   t =  14.7435522285  p =  4.7676644566e-19 significant\n",
      "Comparion Years:  2015   2016   t =  9.35467070934  p =  3.25023227448e-12 significant\n",
      "Comparion Years:  2015   2017   t =  10.9821966661  p =  1.90265373301e-14 significant\n",
      "Comparion Years:  2016   2017   t =  3.14698913547  p =  0.00289261276012 significant\n"
     ]
    }
   ],
   "source": [
    "for i in range(2010,2017,1):\n",
    "    for j in range(i+1,2018,1):\n",
    "        t, p = stats.ttest_ind(groupByYear.get_group(i)['premium'],groupByYear.get_group(j)['premium'])\n",
    "        if p < 0.05: \n",
    "            sig = 'significant'\n",
    "        else:\n",
    "            sig =' '\n",
    "        print('Comparion Years: ', i, ' ',j, ' ', 't = ', t, ' p = ', p, sig  )\n",
    "\n"
   ]
  }
 ],
 "metadata": {
  "anaconda-cloud": {},
  "kernelspec": {
   "display_name": "Python 3",
   "language": "python",
   "name": "python3"
  },
  "language_info": {
   "codemirror_mode": {
    "name": "ipython",
    "version": 3
   },
   "file_extension": ".py",
   "mimetype": "text/x-python",
   "name": "python",
   "nbconvert_exporter": "python",
   "pygments_lexer": "ipython3",
   "version": "3.6.4"
  }
 },
 "nbformat": 4,
 "nbformat_minor": 1
}
